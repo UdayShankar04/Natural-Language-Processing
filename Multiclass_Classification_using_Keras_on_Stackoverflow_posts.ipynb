{
 "cells": [
  {
   "cell_type": "markdown",
   "metadata": {
    "colab_type": "text",
    "id": "abqvmRyyaJ0m"
   },
   "source": [
    "I will be using the Stack overflow dataset.I have grabbed around 2k sample for 4 tags iphone, jave, javascript, python\n",
    "I will be building a deep learning model using keras."
   ]
  },
  {
   "cell_type": "code",
   "execution_count": 4,
   "metadata": {
    "colab": {
     "base_uri": "https://localhost:8080/",
     "height": 34
    },
    "colab_type": "code",
    "id": "XVLXCJuLc1_G",
    "outputId": "9da99d45-f082-40d5-fd6c-725131ff747d"
   },
   "outputs": [
    {
     "name": "stdout",
     "output_type": "stream",
     "text": [
      "Found GPU at: /device:GPU:0\n"
     ]
    }
   ],
   "source": [
    "%tensorflow_version 2.x\n",
    "import tensorflow as tf\n",
    "device_name = tf.test.gpu_device_name()\n",
    "if device_name != '/device:GPU:0':\n",
    "  raise SystemError('GPU device not found')\n",
    "print('Found GPU at: {}'.format(device_name))"
   ]
  },
  {
   "cell_type": "code",
   "execution_count": 5,
   "metadata": {
    "colab": {
     "base_uri": "https://localhost:8080/",
     "height": 121
    },
    "colab_type": "code",
    "id": "ET6IzGS4Qf1V",
    "outputId": "8c8b98eb-ac98-47ba-a1a2-5bd76fc86b98"
   },
   "outputs": [
    {
     "name": "stdout",
     "output_type": "stream",
     "text": [
      "Time (s) to convolve 32x7x7x3 filter over random 100x100x100x3 images (batch x height x width x channel). Sum of ten runs.\n",
      "CPU (s):\n",
      "3.884664384999951\n",
      "GPU (s):\n",
      "0.20824364899999637\n",
      "GPU speedup over CPU: 18x\n"
     ]
    }
   ],
   "source": [
    "%tensorflow_version 2.x\n",
    "import tensorflow as tf\n",
    "import timeit\n",
    "\n",
    "device_name = tf.test.gpu_device_name()\n",
    "if device_name != '/device:GPU:0':\n",
    "  print(\n",
    "      '\\n\\nThis error most likely means that this notebook is not '\n",
    "      'configured to use a GPU.  Change this in Notebook Settings via the '\n",
    "      'command palette (cmd/ctrl-shift-P) or the Edit menu.\\n\\n')\n",
    "  raise SystemError('GPU device not found')\n",
    "\n",
    "def cpu():\n",
    "  with tf.device('/cpu:0'):\n",
    "    random_image_cpu = tf.random.normal((100, 100, 100, 3))\n",
    "    net_cpu = tf.keras.layers.Conv2D(32, 7)(random_image_cpu)\n",
    "    return tf.math.reduce_sum(net_cpu)\n",
    "\n",
    "def gpu():\n",
    "  with tf.device('/device:GPU:0'):\n",
    "    random_image_gpu = tf.random.normal((100, 100, 100, 3))\n",
    "    net_gpu = tf.keras.layers.Conv2D(32, 7)(random_image_gpu)\n",
    "    return tf.math.reduce_sum(net_gpu)\n",
    "  \n",
    "# We run each op once to warm up; see: https://stackoverflow.com/a/45067900\n",
    "cpu()\n",
    "gpu()\n",
    "\n",
    "# Run the op several times.\n",
    "print('Time (s) to convolve 32x7x7x3 filter over random 100x100x100x3 images '\n",
    "      '(batch x height x width x channel). Sum of ten runs.')\n",
    "print('CPU (s):')\n",
    "cpu_time = timeit.timeit('cpu()', number=10, setup=\"from __main__ import cpu\")\n",
    "print(cpu_time)\n",
    "print('GPU (s):')\n",
    "gpu_time = timeit.timeit('gpu()', number=10, setup=\"from __main__ import gpu\")\n",
    "print(gpu_time)\n",
    "print('GPU speedup over CPU: {}x'.format(int(cpu_time/gpu_time)))"
   ]
  },
  {
   "cell_type": "code",
   "execution_count": 6,
   "metadata": {
    "colab": {
     "base_uri": "https://localhost:8080/",
     "height": 72
    },
    "colab_type": "code",
    "id": "7erDVOU6a1tB",
    "outputId": "24d0a270-3088-4ded-9c56-10d9caddb1af"
   },
   "outputs": [
    {
     "name": "stderr",
     "output_type": "stream",
     "text": [
      "/usr/local/lib/python3.6/dist-packages/statsmodels/tools/_testing.py:19: FutureWarning: pandas.util.testing is deprecated. Use the functions in the public API at pandas.testing instead.\n",
      "  import pandas.util.testing as tm\n"
     ]
    },
    {
     "data": {
      "text/html": [
       "<style>.container {width:100% !important; }</style>"
      ],
      "text/plain": [
       "<IPython.core.display.HTML object>"
      ]
     },
     "metadata": {
      "tags": []
     },
     "output_type": "display_data"
    }
   ],
   "source": [
    "# Import Libraries\n",
    "import keras\n",
    "import numpy as np\n",
    "from keras.preprocessing.text import Tokenizer\n",
    "import pandas as pd\n",
    "from keras.models import Sequential\n",
    "from keras.layers import Dense\n",
    "from keras.preprocessing.sequence import pad_sequences\n",
    "from keras.layers import Input, Dense, Dropout, Embedding, LSTM, Flatten\n",
    "from keras.models import Model\n",
    "from keras.utils import to_categorical\n",
    "from keras.callbacks import ModelCheckpoint\n",
    "import seaborn as sns\n",
    "import matplotlib.pyplot as plt\n",
    "from sklearn.model_selection import train_test_split\n",
    "from sklearn.metrics import accuracy_score\n",
    "plt.style.use('ggplot')\n",
    "%matplotlib inline\n",
    "from IPython.core.display import display, HTML\n",
    "display(HTML(\"<style>.container {width:100% !important; }</style>\"))"
   ]
  },
  {
   "cell_type": "code",
   "execution_count": 0,
   "metadata": {
    "colab": {},
    "colab_type": "code",
    "id": "-CByDvNiclP1"
   },
   "outputs": [],
   "source": [
    "# Read csv file from dir.\n",
    "data = pd.read_csv('/content/stackoverflow.csv')"
   ]
  },
  {
   "cell_type": "code",
   "execution_count": 9,
   "metadata": {
    "colab": {
     "base_uri": "https://localhost:8080/",
     "height": 206
    },
    "colab_type": "code",
    "id": "bbL5OEl4dhOC",
    "outputId": "fc676d64-8971-49e6-a6c3-744fdfaf0fb5"
   },
   "outputs": [
    {
     "data": {
      "text/html": [
       "<div>\n",
       "<style scoped>\n",
       "    .dataframe tbody tr th:only-of-type {\n",
       "        vertical-align: middle;\n",
       "    }\n",
       "\n",
       "    .dataframe tbody tr th {\n",
       "        vertical-align: top;\n",
       "    }\n",
       "\n",
       "    .dataframe thead th {\n",
       "        text-align: right;\n",
       "    }\n",
       "</style>\n",
       "<table border=\"1\" class=\"dataframe\">\n",
       "  <thead>\n",
       "    <tr style=\"text-align: right;\">\n",
       "      <th></th>\n",
       "      <th>post</th>\n",
       "      <th>tags</th>\n",
       "    </tr>\n",
       "  </thead>\n",
       "  <tbody>\n",
       "    <tr>\n",
       "      <th>0</th>\n",
       "      <td>conventions of importing python main programs ...</td>\n",
       "      <td>python</td>\n",
       "    </tr>\n",
       "    <tr>\n",
       "      <th>1</th>\n",
       "      <td>python write to file based on offset  i want t...</td>\n",
       "      <td>python</td>\n",
       "    </tr>\n",
       "    <tr>\n",
       "      <th>2</th>\n",
       "      <td>enable a textbox on the selection of no from t...</td>\n",
       "      <td>javascript</td>\n",
       "    </tr>\n",
       "    <tr>\n",
       "      <th>3</th>\n",
       "      <td>sending mms and email from within app  how doe...</td>\n",
       "      <td>iphone</td>\n",
       "    </tr>\n",
       "    <tr>\n",
       "      <th>4</th>\n",
       "      <td>why aren t java weak references counted as ref...</td>\n",
       "      <td>java</td>\n",
       "    </tr>\n",
       "  </tbody>\n",
       "</table>\n",
       "</div>"
      ],
      "text/plain": [
       "                                                post        tags\n",
       "0  conventions of importing python main programs ...      python\n",
       "1  python write to file based on offset  i want t...      python\n",
       "2  enable a textbox on the selection of no from t...  javascript\n",
       "3  sending mms and email from within app  how doe...      iphone\n",
       "4  why aren t java weak references counted as ref...        java"
      ]
     },
     "execution_count": 9,
     "metadata": {
      "tags": []
     },
     "output_type": "execute_result"
    }
   ],
   "source": [
    "data.head()"
   ]
  },
  {
   "cell_type": "code",
   "execution_count": 10,
   "metadata": {
    "colab": {
     "base_uri": "https://localhost:8080/",
     "height": 104
    },
    "colab_type": "code",
    "id": "KWK6pU6wdi7f",
    "outputId": "10abced6-bfb7-4162-8741-20122c319745"
   },
   "outputs": [
    {
     "data": {
      "text/plain": [
       "iphone        2000\n",
       "python        2000\n",
       "javascript    2000\n",
       "java          2000\n",
       "Name: tags, dtype: int64"
      ]
     },
     "execution_count": 10,
     "metadata": {
      "tags": []
     },
     "output_type": "execute_result"
    }
   ],
   "source": [
    "# class distributions\n",
    "data.tags.value_counts()"
   ]
  },
  {
   "cell_type": "markdown",
   "metadata": {
    "colab_type": "text",
    "id": "k7p8iODxeMfu"
   },
   "source": [
    "**Preprocessing Text**\n"
   ]
  },
  {
   "cell_type": "markdown",
   "metadata": {
    "colab_type": "text",
    "id": "IiSOBR3peo06"
   },
   "source": [
    "Now that we have finished duplication our data requries some preprocessing before we go on further with analysis and making the predicition model.\n",
    "\n",
    "Hence in the Preprocessing phase we do the following in the order below:-\n",
    "\n",
    "\n",
    "\n",
    "1.   Begin by removing the html tags\n",
    "2.   Removing any punchuations or limited set of special charaters like, or.or#etc\n",
    "3.    Check if the word is made up of english letter and is not alpha-numeric\n",
    "4.    Check to se if the length of the word is greater than 2(as it was researched that there is no adjective in 2-letters)\n",
    "5. Convert the word to lowercase\n",
    "6. Remove Stopwords\n",
    "7. Finally Snowball Stemming the word(it was obsereved to be better than Porter Stemming)\n",
    "\n",
    "\n"
   ]
  },
  {
   "cell_type": "code",
   "execution_count": 11,
   "metadata": {
    "colab": {
     "base_uri": "https://localhost:8080/",
     "height": 176
    },
    "colab_type": "code",
    "id": "jmS6a5BVdtIj",
    "outputId": "891d1699-6abb-4fb7-ffdf-0236a40b6fdf"
   },
   "outputs": [
    {
     "name": "stdout",
     "output_type": "stream",
     "text": [
      "conventions of importing python main programs  often i write command line utilities that are only meant to be run as main. for example  i might have a file that looks like this:   <pre><code>#!/usr/bin/env python  if __name__ ==  __main__ :     import sys     # do stuff </code></pre>   in other words  there is nothing going on that isn t under the if statement checking that this file is being run as main. i tried importing a file like this to see what would happen  and the import was successful.    so as i expected  one is allowed to import files like this  but what is the convention surrounding this practice  is one supposed to throw an error telling the user that there is nothing to be imported  or if all the contents of the file are supposed to be run as main  does one need to check if the program is being run as main  or is the conditional not necessary      also  if i have import statements  should they be at the top of the file  or under the conditional  if the modules are only being used under the conditional  it would seem to me that they should be imported under the conditional and not at the top of the file.\n",
      "==================================================\n",
      "unsure on converting strings to double  for this program i plan on taking a file (numbers.txt) and finding the mean and standard deviation of the numbers and printing them in another .txt file. i believe the problem i have here involves strings and converting them so i can use them in my equation. here is a snippet of my code:   <pre><code>file file2 = new file(filename);          //create a filereader object passing it the filename scanner inputfile2 = new scanner(file2);  //reconnect to the filereader object passing it the filename                                           //reconnect to the bufferedreader object passing it the   filereader object. sum = 0;                                  //reinitialize the sum of the numbers count = 0;                                //reinitialize the number of numbers added line = inputfile2.nextline();             //priming read to read the first line of the file  while (inputfile2.hasnextdouble())        //loop that continues until you are at the end of the file {                                    sum += inputfile2.nextdouble();        difference = inputfile2.nextdouble() - mean;  //convert the line into a double value and subtract the mean    sum += math.pow(difference 2);                //add the square of the difference to the sum    count ++;                                     //increment the counter     if (inputfile2.hasnextdouble())    {        inputfile2.hasnext();                     //read a new line from the file        inputfile2.close();                       //close the input file        stddev = math.sqrt(sum/count);            //store the calculated standard deviation                } } </code></pre>   edit: here is the error message i am getting:   <pre><code>java.lang.illegalstateexception: scanner closed at java.util.scanner.ensureopen(unknown source) at java.util.scanner.hasnext(unknown source) at java.util.scanner.hasnextdouble(unknown source) at statsdemo.main(statsdemo.java:48) at sun.reflect.nativemethodaccessorimpl.invoke0(native method) at sun.reflect.nativemethodaccessorimpl.invoke(unknown source) at sun.reflect.delegatingmethodaccessorimpl.invoke(unknown source) at java.lang.reflect.method.invoke(unknown source) at edu.rice.cs.drjava.model.compiler.javaccompiler.runcommand(javaccompiler.java:272) </code></pre>\n",
      "==================================================\n",
      "how to move image using uiaccelerometer   how to move image when i am moving iphone\n",
      "==================================================\n",
      "javascript onchange undefind error | is no defined  when i change the list value it show me  getstate is not defined   how to fix it   <pre><code>&lt;select name= country  id= country  onchange= getstate(); &gt;                                 &lt;option value=  &gt;select&lt;/option&gt;                                 &lt;option value= 1 &gt;usa&lt;/option&gt;                                                            &lt;/select&gt; function getstate() {                     var site_url =  &lt; php echo site_url(); &gt; ;                      var countryid = $( #country ).val();                     if(countryid==  ) {                      $( #state ).html( &lt;option value=  &gt;select&lt;/option&gt; );                      $( #city ).html( &lt;option value=  &gt;select&lt;/option&gt; );                             return false;                     }                     $.get(site_url+ admin/ajxcal1  { id :countryid} function(data){                     console.log(data);                       //$( #state ).html(data);                     });                  } </code></pre>\n",
      "==================================================\n"
     ]
    }
   ],
   "source": [
    "# Prining some random posts\n",
    "sent_0 = data['post'].values[0]\n",
    "print(sent_0)\n",
    "print(\"=\"*50)\n",
    "\n",
    "sent_1000 = data['post'].values[1000]\n",
    "print(sent_1000)\n",
    "print(\"=\"*50)\n",
    "\n",
    "sent_1500 = data['post'].values[1500]\n",
    "print(sent_1500)\n",
    "print(\"=\"*50)\n",
    "\n",
    "sent_4900 = data['post'].values[4900]\n",
    "print(sent_4900)\n",
    "print(\"=\"*50)"
   ]
  },
  {
   "cell_type": "code",
   "execution_count": 12,
   "metadata": {
    "colab": {
     "base_uri": "https://localhost:8080/",
     "height": 54
    },
    "colab_type": "code",
    "id": "-n-yc5hGgnPJ",
    "outputId": "5013fbdb-bf37-411f-f66c-76cfbf7a35bb"
   },
   "outputs": [
    {
     "name": "stdout",
     "output_type": "stream",
     "text": [
      "conventions of importing python main programs  often i write command line utilities that are only meant to be run as main. for example  i might have a file that looks like this:   <pre><code>#!/usr/bin/env python  if __name__ ==  __main__ :     import sys     # do stuff </code></pre>   in other words  there is nothing going on that isn t under the if statement checking that this file is being run as main. i tried importing a file like this to see what would happen  and the import was successful.    so as i expected  one is allowed to import files like this  but what is the convention surrounding this practice  is one supposed to throw an error telling the user that there is nothing to be imported  or if all the contents of the file are supposed to be run as main  does one need to check if the program is being run as main  or is the conditional not necessary      also  if i have import statements  should they be at the top of the file  or under the conditional  if the modules are only being used under the conditional  it would seem to me that they should be imported under the conditional and not at the top of the file.\n"
     ]
    }
   ],
   "source": [
    "import re\n",
    "# removing urls from text python: http://stackflow.com/a/40823105/4084039\n",
    "sent_0 = re.sub(r\"http\\S+\",\"\",sent_0)\n",
    "sent_1000 = re.sub(r\"http\\S+\",\"\",sent_1000)\n",
    "sent_1500 = re.sub(r\"http\\S+\",\"\",sent_1500)\n",
    "sent_4900 = re.sub(r\"http\\S+\",\"\",sent_4900)\n",
    "print(sent_0)"
   ]
  },
  {
   "cell_type": "code",
   "execution_count": 13,
   "metadata": {
    "colab": {
     "base_uri": "https://localhost:8080/",
     "height": 159
    },
    "colab_type": "code",
    "id": "HPs5iioviDsI",
    "outputId": "1c275bc8-63cd-4b9a-e4fc-162a37f099c7"
   },
   "outputs": [
    {
     "name": "stdout",
     "output_type": "stream",
     "text": [
      "conventions of importing python main programs  often i write command line utilities that are only meant to be run as main. for example  i might have a file that looks like this:   #!/usr/bin/env python  if __name__ ==  __main__ :     import sys     # do stuff    in other words  there is nothing going on that isn t under the if statement checking that this file is being run as main. i tried importing a file like this to see what would happen  and the import was successful.    so as i expected  one is allowed to import files like this  but what is the convention surrounding this practice  is one supposed to throw an error telling the user that there is nothing to be imported  or if all the contents of the file are supposed to be run as main  does one need to check if the program is being run as main  or is the conditional not necessary      also  if i have import statements  should they be at the top of the file  or under the conditional  if the modules are only being used under the conditional  it would seem to me that they should be imported under the conditional and not at the top of the file.\n",
      "==================================================\n",
      "unsure on converting strings to double  for this program i plan on taking a file (numbers.txt) and finding the mean and standard deviation of the numbers and printing them in another .txt file. i believe the problem i have here involves strings and converting them so i can use them in my equation. here is a snippet of my code:   file file2 = new file(filename);          //create a filereader object passing it the filename scanner inputfile2 = new scanner(file2);  //reconnect to the filereader object passing it the filename                                           //reconnect to the bufferedreader object passing it the   filereader object. sum = 0;                                  //reinitialize the sum of the numbers count = 0;                                //reinitialize the number of numbers added line = inputfile2.nextline();             //priming read to read the first line of the file  while (inputfile2.hasnextdouble())        //loop that continues until you are at the end of the file {                                    sum += inputfile2.nextdouble();        difference = inputfile2.nextdouble() - mean;  //convert the line into a double value and subtract the mean    sum += math.pow(difference 2);                //add the square of the difference to the sum    count ++;                                     //increment the counter     if (inputfile2.hasnextdouble())    {        inputfile2.hasnext();                     //read a new line from the file        inputfile2.close();                       //close the input file        stddev = math.sqrt(sum/count);            //store the calculated standard deviation                } }    edit: here is the error message i am getting:   java.lang.illegalstateexception: scanner closed at java.util.scanner.ensureopen(unknown source) at java.util.scanner.hasnext(unknown source) at java.util.scanner.hasnextdouble(unknown source) at statsdemo.main(statsdemo.java:48) at sun.reflect.nativemethodaccessorimpl.invoke0(native method) at sun.reflect.nativemethodaccessorimpl.invoke(unknown source) at sun.reflect.delegatingmethodaccessorimpl.invoke(unknown source) at java.lang.reflect.method.invoke(unknown source) at edu.rice.cs.drjava.model.compiler.javaccompiler.runcommand(javaccompiler.java:272) \n",
      "==================================================\n",
      "how to move image using uiaccelerometer   how to move image when i am moving iphone\n",
      "==================================================\n",
      "javascript onchange undefind error | is no defined  when i change the list value it show me  getstate is not defined   how to fix it   <select name= country  id= country  onchange= getstate(); >                                 <option value=  >select</option>                                 <option value= 1 >usa</option>                                                            </select> function getstate() {                     var site_url =  < php echo site_url(); > ;                      var countryid = $( #country ).val();                     if(countryid==  ) {                      $( #state ).html( <option value=  >select</option> );                      $( #city ).html( <option value=  >select</option> );                             return false;                     }                     $.get(site_url+ admin/ajxcal1  { id :countryid} function(data){                     console.log(data);                       //$( #state ).html(data);                     });                  } \n"
     ]
    }
   ],
   "source": [
    "# https://stackoverflow.com/questions/16206380/python-beautifulsoup-how-to-remove-all-tags-from-an-element\n",
    "from bs4 import BeautifulSoup\n",
    "\n",
    "soup = BeautifulSoup(sent_0, 'lxml')\n",
    "text = soup.get_text()\n",
    "print(text)\n",
    "print(\"=\"*50)\n",
    "\n",
    "soup = BeautifulSoup(sent_1000, 'lxml')\n",
    "text = soup.get_text()\n",
    "print(text)\n",
    "print(\"=\"*50)\n",
    "\n",
    "soup = BeautifulSoup(sent_1500, 'lxml')\n",
    "text = soup.get_text()\n",
    "print(text)\n",
    "print(\"=\"*50)\n",
    "\n",
    "soup = BeautifulSoup(sent_4900, 'lxml')\n",
    "text = soup.get_text()\n",
    "print(text)"
   ]
  },
  {
   "cell_type": "code",
   "execution_count": 0,
   "metadata": {
    "colab": {},
    "colab_type": "code",
    "id": "PKZBv57GjY6_"
   },
   "outputs": [],
   "source": [
    "def decontracted(phrase):\n",
    "  # specific\n",
    "  phrase = re.sub(r\"won't\", \"will not\", phrase)\n",
    "  phrase = re.sub(r\"can\\t\", \"can not\", phrase)\n",
    "\n",
    "  # general\n",
    "  phrase = re.sub(r\"n\\t\", \"not\", phrase)\n",
    "  phrase = re.sub(r\"\\'re\", \"are\", phrase)\n",
    "  phrase = re.sub(r\"\\'s\", \"is\", phrase)\n",
    "  phrase = re.sub(r\"\\'d\", \"would\", phrase)\n",
    "  phrase = re.sub(r\"\\'ll\", \"will\", phrase)\n",
    "  phrase = re.sub(r\"\\'t\", \"not\", phrase)\n",
    "  phrase = re.sub(r\"\\'ve\", \"have\", phrase)\n",
    "  phrase = re.sub(r\"\\'m\", \"am\", phrase)\n",
    "  return phrase"
   ]
  },
  {
   "cell_type": "code",
   "execution_count": 15,
   "metadata": {
    "colab": {
     "base_uri": "https://localhost:8080/",
     "height": 52
    },
    "colab_type": "code",
    "id": "tJhV3y8NlMYv",
    "outputId": "08a7add3-3ba2-4f7d-c901-dbc8955ab29c"
   },
   "outputs": [
    {
     "name": "stdout",
     "output_type": "stream",
     "text": [
      "how to move image using uiaccelerometer   how to move image when i am moving iphone\n",
      "==================================================\n"
     ]
    }
   ],
   "source": [
    "sent_1500 = decontracted(sent_1500)\n",
    "print(sent_1500)\n",
    "print(\"=\"*50)"
   ]
  },
  {
   "cell_type": "code",
   "execution_count": 16,
   "metadata": {
    "colab": {
     "base_uri": "https://localhost:8080/",
     "height": 54
    },
    "colab_type": "code",
    "id": "Xdy8LtmZleTL",
    "outputId": "234a1d36-7024-4b8a-8be2-df8432c014cf"
   },
   "outputs": [
    {
     "name": "stdout",
     "output_type": "stream",
     "text": [
      "conventions of importing python main programs  often i write command line utilities that are only meant to be run as main. for example  i might have a file that looks like this:   <pre><code>#!/usr/bin/env python  if __name__ ==  __main__ :     import sys     # do stuff </code></pre>   in other words  there is nothing going on that isn t under the if statement checking that this file is being run as main. i tried importing a file like this to see what would happen  and the import was successful.    so as i expected  one is allowed to import files like this  but what is the convention surrounding this practice  is one supposed to throw an error telling the user that there is nothing to be imported  or if all the contents of the file are supposed to be run as main  does one need to check if the program is being run as main  or is the conditional not necessary      also  if i have import statements  should they be at the top of the file  or under the conditional  if the modules are only being used under the conditional  it would seem to me that they should be imported under the conditional and not at the top of the file.\n"
     ]
    }
   ],
   "source": [
    "# remove words with numbers\n",
    "sent_0 = re.sub(\"\\S*\\d\\S*\", \"\", sent_0).strip()\n",
    "print(sent_0)"
   ]
  },
  {
   "cell_type": "code",
   "execution_count": 17,
   "metadata": {
    "colab": {
     "base_uri": "https://localhost:8080/",
     "height": 34
    },
    "colab_type": "code",
    "id": "slNfbHb6mH5K",
    "outputId": "505e71d3-4740-4f25-9be7-3f56097529b4"
   },
   "outputs": [
    {
     "name": "stdout",
     "output_type": "stream",
     "text": [
      "how to move image using uiaccelerometer how to move image when i am moving iphone\n"
     ]
    }
   ],
   "source": [
    "# remove special character\n",
    "sent_1500 = re.sub('[^A-Za-z0-9]+', ' ',sent_1500)\n",
    "print(sent_1500)"
   ]
  },
  {
   "cell_type": "code",
   "execution_count": 0,
   "metadata": {
    "colab": {},
    "colab_type": "code",
    "id": "u8owOcbLmbPX"
   },
   "outputs": [],
   "source": [
    "# https://gist.github.com/sebleier/554280\n",
    "# we are removing the words from the stop words list: 'no', 'nor', 'not'\n",
    "# <br /><br /> ==> after the above steps, we are getting \"br br\"\n",
    "# we are including them into stop words list\n",
    "# instead of <br /> if we have <br/> these tags would have revmoved in the 1st step\n",
    "\n",
    "stopwords= set(['br', 'the', 'i', 'me', 'my', 'myself', 'we', 'our', 'ours', 'ourselves', 'you', \"you're\", \"you've\",\\\n",
    "            \"you'll\", \"you'd\", 'your', 'yours', 'yourself', 'yourselves', 'he', 'him', 'his', 'himself', \\\n",
    "            'she', \"she's\", 'her', 'hers', 'herself', 'it', \"it's\", 'its', 'itself', 'they', 'them', 'their',\\\n",
    "            'theirs', 'themselves', 'what', 'which', 'who', 'whom', 'this', 'that', \"that'll\", 'these', 'those', \\\n",
    "            'am', 'is', 'are', 'was', 'were', 'be', 'been', 'being', 'have', 'has', 'had', 'having', 'do', 'does', \\\n",
    "            'did', 'doing', 'a', 'an', 'the', 'and', 'but', 'if', 'or', 'because', 'as', 'until', 'while', 'of', \\\n",
    "            'at', 'by', 'for', 'with', 'about', 'against', 'between', 'into', 'through', 'during', 'before', 'after',\\\n",
    "            'above', 'below', 'to', 'from', 'up', 'down', 'in', 'out', 'on', 'off', 'over', 'under', 'again', 'further',\\\n",
    "            'then', 'once', 'here', 'there', 'when', 'where', 'why', 'how', 'all', 'any', 'both', 'each', 'few', 'more',\\\n",
    "            'most', 'other', 'some', 'such', 'only', 'own', 'same', 'so', 'than', 'too', 'very', \\\n",
    "            's', 't', 'can', 'will', 'just', 'don', \"don't\", 'should', \"should've\", 'now', 'd', 'll', 'm', 'o', 're', \\\n",
    "            've', 'y', 'ain', 'aren', \"aren't\", 'couldn', \"couldn't\", 'didn', \"didn't\", 'doesn', \"doesn't\", 'hadn',\\\n",
    "            \"hadn't\", 'hasn', \"hasn't\", 'haven', \"haven't\", 'isn', \"isn't\", 'ma', 'mightn', \"mightn't\", 'mustn',\\\n",
    "            \"mustn't\", 'needn', \"needn't\", 'shan', \"shan't\", 'shouldn', \"shouldn't\", 'wasn', \"wasn't\", 'weren', \"weren't\", \\\n",
    "            'won', \"won't\", 'wouldn', \"wouldn't\"])"
   ]
  },
  {
   "cell_type": "code",
   "execution_count": 19,
   "metadata": {
    "colab": {
     "base_uri": "https://localhost:8080/",
     "height": 34
    },
    "colab_type": "code",
    "id": "yUIWYd8WnWBs",
    "outputId": "7c64d62c-5756-47af-9b68-c34b3eca4ea0"
   },
   "outputs": [
    {
     "name": "stderr",
     "output_type": "stream",
     "text": [
      "100%|██████████| 8000/8000 [00:05<00:00, 1533.64it/s]\n"
     ]
    }
   ],
   "source": [
    "# Combining all the above sentances\n",
    "from tqdm import tqdm\n",
    "preprocessed_posts=[]\n",
    "# tqdm is for printing the status bar\n",
    "for sentance in tqdm(data['post'].values):\n",
    "  sentance = re.sub(r\"http\\S+\", \"\", sentance)\n",
    "  sentance = BeautifulSoup(sentance, 'lxml').get_text()\n",
    "  sentance = decontracted(sentance)\n",
    "  sentance = re.sub(\"\\S*\\d\\S*\", \"\",sentance).strip()\n",
    "  sentance = re.sub('[^A-Za-z]+', ' ', sentance)\n",
    "  \n",
    "  sentance = ' '.join(e.lower() for e in sentance.split() if e.lower() not in stopwords)\n",
    "\n",
    "  preprocessed_posts.append(sentance.strip())"
   ]
  },
  {
   "cell_type": "code",
   "execution_count": 20,
   "metadata": {
    "colab": {
     "base_uri": "https://localhost:8080/",
     "height": 34
    },
    "colab_type": "code",
    "id": "101wahsppSCq",
    "outputId": "84ecb682-606f-4da0-f4e2-b42a8f3e8be0"
   },
   "outputs": [
    {
     "data": {
      "text/plain": [
       "'move image using uiaccelerometer move image moving iphone'"
      ]
     },
     "execution_count": 20,
     "metadata": {
      "tags": []
     },
     "output_type": "execute_result"
    }
   ],
   "source": [
    "preprocessed_posts[1500]"
   ]
  },
  {
   "cell_type": "code",
   "execution_count": 0,
   "metadata": {
    "colab": {},
    "colab_type": "code",
    "id": "N715SOecQsH4"
   },
   "outputs": [],
   "source": [
    "data['CleanText'] = preprocessed_posts"
   ]
  },
  {
   "cell_type": "code",
   "execution_count": 22,
   "metadata": {
    "colab": {
     "base_uri": "https://localhost:8080/",
     "height": 206
    },
    "colab_type": "code",
    "id": "BW1DjJmfRKRG",
    "outputId": "9af5cd3d-d679-421d-85a5-883cb2a083f6"
   },
   "outputs": [
    {
     "data": {
      "text/html": [
       "<div>\n",
       "<style scoped>\n",
       "    .dataframe tbody tr th:only-of-type {\n",
       "        vertical-align: middle;\n",
       "    }\n",
       "\n",
       "    .dataframe tbody tr th {\n",
       "        vertical-align: top;\n",
       "    }\n",
       "\n",
       "    .dataframe thead th {\n",
       "        text-align: right;\n",
       "    }\n",
       "</style>\n",
       "<table border=\"1\" class=\"dataframe\">\n",
       "  <thead>\n",
       "    <tr style=\"text-align: right;\">\n",
       "      <th></th>\n",
       "      <th>post</th>\n",
       "      <th>tags</th>\n",
       "      <th>CleanText</th>\n",
       "    </tr>\n",
       "  </thead>\n",
       "  <tbody>\n",
       "    <tr>\n",
       "      <th>0</th>\n",
       "      <td>conventions of importing python main programs ...</td>\n",
       "      <td>python</td>\n",
       "      <td>conventions importing python main programs oft...</td>\n",
       "    </tr>\n",
       "    <tr>\n",
       "      <th>1</th>\n",
       "      <td>python write to file based on offset  i want t...</td>\n",
       "      <td>python</td>\n",
       "      <td>python write file based offset want create pyt...</td>\n",
       "    </tr>\n",
       "    <tr>\n",
       "      <th>2</th>\n",
       "      <td>enable a textbox on the selection of no from t...</td>\n",
       "      <td>javascript</td>\n",
       "      <td>enable textbox selection no drop menu drop men...</td>\n",
       "    </tr>\n",
       "    <tr>\n",
       "      <th>3</th>\n",
       "      <td>sending mms and email from within app  how doe...</td>\n",
       "      <td>iphone</td>\n",
       "      <td>sending mms email within app one get pop menu ...</td>\n",
       "    </tr>\n",
       "    <tr>\n",
       "      <th>4</th>\n",
       "      <td>why aren t java weak references counted as ref...</td>\n",
       "      <td>java</td>\n",
       "      <td>java weak references counted references garbag...</td>\n",
       "    </tr>\n",
       "  </tbody>\n",
       "</table>\n",
       "</div>"
      ],
      "text/plain": [
       "                                                post  ...                                          CleanText\n",
       "0  conventions of importing python main programs ...  ...  conventions importing python main programs oft...\n",
       "1  python write to file based on offset  i want t...  ...  python write file based offset want create pyt...\n",
       "2  enable a textbox on the selection of no from t...  ...  enable textbox selection no drop menu drop men...\n",
       "3  sending mms and email from within app  how doe...  ...  sending mms email within app one get pop menu ...\n",
       "4  why aren t java weak references counted as ref...  ...  java weak references counted references garbag...\n",
       "\n",
       "[5 rows x 3 columns]"
      ]
     },
     "execution_count": 22,
     "metadata": {
      "tags": []
     },
     "output_type": "execute_result"
    }
   ],
   "source": [
    "data.head()"
   ]
  },
  {
   "cell_type": "markdown",
   "metadata": {
    "colab_type": "text",
    "id": "3ESloQj7NUZg"
   },
   "source": [
    "**Convert tags to integers as most of the machine learning models deal with integer or float**\n",
    "\n",
    "\n",
    "Alternative way would be to use LabelEncoder and fit the tags columns on it"
   ]
  },
  {
   "cell_type": "code",
   "execution_count": 0,
   "metadata": {
    "colab": {},
    "colab_type": "code",
    "id": "Mi1yJ-5yO6J7"
   },
   "outputs": [],
   "source": [
    "data['target'] = data.tags.astype('category').cat.codes"
   ]
  },
  {
   "cell_type": "markdown",
   "metadata": {
    "colab_type": "text",
    "id": "bTS5gauWSQuh"
   },
   "source": [
    "**Calculate the number of words in each posts**\n",
    "\n",
    "We would like to look at the word distribution across all posts. This information would be key later when we are passing the data to Keras Deep Model."
   ]
  },
  {
   "cell_type": "code",
   "execution_count": 0,
   "metadata": {
    "colab": {},
    "colab_type": "code",
    "id": "Nfv1KIA7xQCF"
   },
   "outputs": [],
   "source": [
    "data['num_words'] = data.CleanText.apply(lambda x : len(x.split()))"
   ]
  },
  {
   "cell_type": "code",
   "execution_count": 25,
   "metadata": {
    "colab": {
     "base_uri": "https://localhost:8080/",
     "height": 206
    },
    "colab_type": "code",
    "id": "vD-cwUC0Thzp",
    "outputId": "8507ad09-c000-4105-f465-bcd94071cc04"
   },
   "outputs": [
    {
     "data": {
      "text/html": [
       "<div>\n",
       "<style scoped>\n",
       "    .dataframe tbody tr th:only-of-type {\n",
       "        vertical-align: middle;\n",
       "    }\n",
       "\n",
       "    .dataframe tbody tr th {\n",
       "        vertical-align: top;\n",
       "    }\n",
       "\n",
       "    .dataframe thead th {\n",
       "        text-align: right;\n",
       "    }\n",
       "</style>\n",
       "<table border=\"1\" class=\"dataframe\">\n",
       "  <thead>\n",
       "    <tr style=\"text-align: right;\">\n",
       "      <th></th>\n",
       "      <th>post</th>\n",
       "      <th>tags</th>\n",
       "      <th>CleanText</th>\n",
       "      <th>target</th>\n",
       "      <th>num_words</th>\n",
       "    </tr>\n",
       "  </thead>\n",
       "  <tbody>\n",
       "    <tr>\n",
       "      <th>0</th>\n",
       "      <td>conventions of importing python main programs ...</td>\n",
       "      <td>python</td>\n",
       "      <td>conventions importing python main programs oft...</td>\n",
       "      <td>3</td>\n",
       "      <td>91</td>\n",
       "    </tr>\n",
       "    <tr>\n",
       "      <th>1</th>\n",
       "      <td>python write to file based on offset  i want t...</td>\n",
       "      <td>python</td>\n",
       "      <td>python write file based offset want create pyt...</td>\n",
       "      <td>3</td>\n",
       "      <td>224</td>\n",
       "    </tr>\n",
       "    <tr>\n",
       "      <th>2</th>\n",
       "      <td>enable a textbox on the selection of no from t...</td>\n",
       "      <td>javascript</td>\n",
       "      <td>enable textbox selection no drop menu drop men...</td>\n",
       "      <td>2</td>\n",
       "      <td>28</td>\n",
       "    </tr>\n",
       "    <tr>\n",
       "      <th>3</th>\n",
       "      <td>sending mms and email from within app  how doe...</td>\n",
       "      <td>iphone</td>\n",
       "      <td>sending mms email within app one get pop menu ...</td>\n",
       "      <td>0</td>\n",
       "      <td>31</td>\n",
       "    </tr>\n",
       "    <tr>\n",
       "      <th>4</th>\n",
       "      <td>why aren t java weak references counted as ref...</td>\n",
       "      <td>java</td>\n",
       "      <td>java weak references counted references garbag...</td>\n",
       "      <td>1</td>\n",
       "      <td>16</td>\n",
       "    </tr>\n",
       "  </tbody>\n",
       "</table>\n",
       "</div>"
      ],
      "text/plain": [
       "                                                post  ... num_words\n",
       "0  conventions of importing python main programs ...  ...        91\n",
       "1  python write to file based on offset  i want t...  ...       224\n",
       "2  enable a textbox on the selection of no from t...  ...        28\n",
       "3  sending mms and email from within app  how doe...  ...        31\n",
       "4  why aren t java weak references counted as ref...  ...        16\n",
       "\n",
       "[5 rows x 5 columns]"
      ]
     },
     "execution_count": 25,
     "metadata": {
      "tags": []
     },
     "output_type": "execute_result"
    }
   ],
   "source": [
    "data.head()"
   ]
  },
  {
   "cell_type": "markdown",
   "metadata": {
    "colab_type": "text",
    "id": "X11PhgZeTuHJ"
   },
   "source": [
    "**Binning the posts by word count**\n",
    "\n",
    "Ideally we would want to know how many posts are short, medium and large posts. Binning is a technique is efficient mechanism to do that"
   ]
  },
  {
   "cell_type": "code",
   "execution_count": 0,
   "metadata": {
    "colab": {},
    "colab_type": "code",
    "id": "Ingie8BwTkj6"
   },
   "outputs": [],
   "source": [
    "bins = [0, 50, 75, np.inf]\n",
    "data['bins'] = pd.cut(data.num_words, bins=[0,100,300,500,800, np.inf], labels=['0-100', '100-300', '300-500', '500-800', '>800'])"
   ]
  },
  {
   "cell_type": "code",
   "execution_count": 0,
   "metadata": {
    "colab": {},
    "colab_type": "code",
    "id": "rAYQT3UfUtHe"
   },
   "outputs": [],
   "source": [
    "word_distribution = data.groupby('bins').size().reset_index().rename(columns={0:'counts'})"
   ]
  },
  {
   "cell_type": "code",
   "execution_count": 28,
   "metadata": {
    "colab": {
     "base_uri": "https://localhost:8080/",
     "height": 206
    },
    "colab_type": "code",
    "id": "dnVp_KlHVBOf",
    "outputId": "bf8dd4f1-b56b-4c37-c0c4-c1e39a9f33f9"
   },
   "outputs": [
    {
     "data": {
      "text/html": [
       "<div>\n",
       "<style scoped>\n",
       "    .dataframe tbody tr th:only-of-type {\n",
       "        vertical-align: middle;\n",
       "    }\n",
       "\n",
       "    .dataframe tbody tr th {\n",
       "        vertical-align: top;\n",
       "    }\n",
       "\n",
       "    .dataframe thead th {\n",
       "        text-align: right;\n",
       "    }\n",
       "</style>\n",
       "<table border=\"1\" class=\"dataframe\">\n",
       "  <thead>\n",
       "    <tr style=\"text-align: right;\">\n",
       "      <th></th>\n",
       "      <th>bins</th>\n",
       "      <th>counts</th>\n",
       "    </tr>\n",
       "  </thead>\n",
       "  <tbody>\n",
       "    <tr>\n",
       "      <th>0</th>\n",
       "      <td>0-100</td>\n",
       "      <td>6240</td>\n",
       "    </tr>\n",
       "    <tr>\n",
       "      <th>1</th>\n",
       "      <td>100-300</td>\n",
       "      <td>1570</td>\n",
       "    </tr>\n",
       "    <tr>\n",
       "      <th>2</th>\n",
       "      <td>300-500</td>\n",
       "      <td>125</td>\n",
       "    </tr>\n",
       "    <tr>\n",
       "      <th>3</th>\n",
       "      <td>500-800</td>\n",
       "      <td>43</td>\n",
       "    </tr>\n",
       "    <tr>\n",
       "      <th>4</th>\n",
       "      <td>&gt;800</td>\n",
       "      <td>22</td>\n",
       "    </tr>\n",
       "  </tbody>\n",
       "</table>\n",
       "</div>"
      ],
      "text/plain": [
       "      bins  counts\n",
       "0    0-100    6240\n",
       "1  100-300    1570\n",
       "2  300-500     125\n",
       "3  500-800      43\n",
       "4     >800      22"
      ]
     },
     "execution_count": 28,
     "metadata": {
      "tags": []
     },
     "output_type": "execute_result"
    }
   ],
   "source": [
    "word_distribution.head()"
   ]
  },
  {
   "cell_type": "code",
   "execution_count": 29,
   "metadata": {
    "colab": {
     "base_uri": "https://localhost:8080/",
     "height": 316
    },
    "colab_type": "code",
    "id": "LtchG-imVE2k",
    "outputId": "bd6a2788-d35b-4565-941e-129c3e48cdd1"
   },
   "outputs": [
    {
     "data": {
      "text/plain": [
       "Text(0.5, 1.0, 'Word distribution per bin')"
      ]
     },
     "execution_count": 29,
     "metadata": {
      "tags": []
     },
     "output_type": "execute_result"
    },
    {
     "data": {
      "image/png": "[encoded data removed]",
      "text/plain": [
       "<Figure size 432x288 with 1 Axes>"
      ]
     },
     "metadata": {
      "needs_background": "light",
      "tags": []
     },
     "output_type": "display_data"
    }
   ],
   "source": [
    "sns.barplot(x='bins', y='counts', data=word_distribution).set_title(\"Word distribution per bin\")"
   ]
  },
  {
   "cell_type": "markdown",
   "metadata": {
    "colab_type": "text",
    "id": "VeHunVidV8Mn"
   },
   "source": [
    "Post transformation this is how our pandas dataframe will look like"
   ]
  },
  {
   "cell_type": "code",
   "execution_count": 30,
   "metadata": {
    "colab": {
     "base_uri": "https://localhost:8080/",
     "height": 206
    },
    "colab_type": "code",
    "id": "Nk1eCJIVVv8U",
    "outputId": "0cafd6f7-d992-42e7-fc60-a1d450dd0586"
   },
   "outputs": [
    {
     "data": {
      "text/html": [
       "<div>\n",
       "<style scoped>\n",
       "    .dataframe tbody tr th:only-of-type {\n",
       "        vertical-align: middle;\n",
       "    }\n",
       "\n",
       "    .dataframe tbody tr th {\n",
       "        vertical-align: top;\n",
       "    }\n",
       "\n",
       "    .dataframe thead th {\n",
       "        text-align: right;\n",
       "    }\n",
       "</style>\n",
       "<table border=\"1\" class=\"dataframe\">\n",
       "  <thead>\n",
       "    <tr style=\"text-align: right;\">\n",
       "      <th></th>\n",
       "      <th>post</th>\n",
       "      <th>tags</th>\n",
       "      <th>CleanText</th>\n",
       "      <th>target</th>\n",
       "      <th>num_words</th>\n",
       "      <th>bins</th>\n",
       "    </tr>\n",
       "  </thead>\n",
       "  <tbody>\n",
       "    <tr>\n",
       "      <th>0</th>\n",
       "      <td>conventions of importing python main programs ...</td>\n",
       "      <td>python</td>\n",
       "      <td>conventions importing python main programs oft...</td>\n",
       "      <td>3</td>\n",
       "      <td>91</td>\n",
       "      <td>0-100</td>\n",
       "    </tr>\n",
       "    <tr>\n",
       "      <th>1</th>\n",
       "      <td>python write to file based on offset  i want t...</td>\n",
       "      <td>python</td>\n",
       "      <td>python write file based offset want create pyt...</td>\n",
       "      <td>3</td>\n",
       "      <td>224</td>\n",
       "      <td>100-300</td>\n",
       "    </tr>\n",
       "    <tr>\n",
       "      <th>2</th>\n",
       "      <td>enable a textbox on the selection of no from t...</td>\n",
       "      <td>javascript</td>\n",
       "      <td>enable textbox selection no drop menu drop men...</td>\n",
       "      <td>2</td>\n",
       "      <td>28</td>\n",
       "      <td>0-100</td>\n",
       "    </tr>\n",
       "    <tr>\n",
       "      <th>3</th>\n",
       "      <td>sending mms and email from within app  how doe...</td>\n",
       "      <td>iphone</td>\n",
       "      <td>sending mms email within app one get pop menu ...</td>\n",
       "      <td>0</td>\n",
       "      <td>31</td>\n",
       "      <td>0-100</td>\n",
       "    </tr>\n",
       "    <tr>\n",
       "      <th>4</th>\n",
       "      <td>why aren t java weak references counted as ref...</td>\n",
       "      <td>java</td>\n",
       "      <td>java weak references counted references garbag...</td>\n",
       "      <td>1</td>\n",
       "      <td>16</td>\n",
       "      <td>0-100</td>\n",
       "    </tr>\n",
       "  </tbody>\n",
       "</table>\n",
       "</div>"
      ],
      "text/plain": [
       "                                                post  ...     bins\n",
       "0  conventions of importing python main programs ...  ...    0-100\n",
       "1  python write to file based on offset  i want t...  ...  100-300\n",
       "2  enable a textbox on the selection of no from t...  ...    0-100\n",
       "3  sending mms and email from within app  how doe...  ...    0-100\n",
       "4  why aren t java weak references counted as ref...  ...    0-100\n",
       "\n",
       "[5 rows x 6 columns]"
      ]
     },
     "execution_count": 30,
     "metadata": {
      "tags": []
     },
     "output_type": "execute_result"
    }
   ],
   "source": [
    "data.head()"
   ]
  },
  {
   "cell_type": "markdown",
   "metadata": {
    "colab_type": "text",
    "id": "KPoWcph6WR7t"
   },
   "source": [
    "**Set number of classes and target variable**"
   ]
  },
  {
   "cell_type": "code",
   "execution_count": 0,
   "metadata": {
    "colab": {},
    "colab_type": "code",
    "id": "qLLt9Jb4WEEC"
   },
   "outputs": [],
   "source": [
    "num_class = len(np.unique(data.tags.values))\n",
    "y = data['target'].values"
   ]
  },
  {
   "cell_type": "code",
   "execution_count": 32,
   "metadata": {
    "colab": {
     "base_uri": "https://localhost:8080/",
     "height": 34
    },
    "colab_type": "code",
    "id": "l_u8mqFu7ouB",
    "outputId": "4694202b-844c-433e-d703-09bc8a8b73c4"
   },
   "outputs": [
    {
     "name": "stdout",
     "output_type": "stream",
     "text": [
      "{0: 'iphone', 1: 'java', 2: 'javascript', 3: 'python'}\n"
     ]
    }
   ],
   "source": [
    "tar = list(np.unique(y))\n",
    "tagg = list(np.unique(data.tags))\n",
    "d = dict(zip(tar, tagg))\n",
    "print(d)"
   ]
  },
  {
   "cell_type": "code",
   "execution_count": 33,
   "metadata": {
    "colab": {
     "base_uri": "https://localhost:8080/",
     "height": 34
    },
    "colab_type": "code",
    "id": "yefxmYfd9eLU",
    "outputId": "967ba516-28c9-4ba9-daf0-4888d539ae09"
   },
   "outputs": [
    {
     "data": {
      "text/plain": [
       "'python'"
      ]
     },
     "execution_count": 33,
     "metadata": {
      "tags": []
     },
     "output_type": "execute_result"
    }
   ],
   "source": [
    "d[3]"
   ]
  },
  {
   "cell_type": "markdown",
   "metadata": {
    "colab_type": "text",
    "id": "WTYIhdcvWxNP"
   },
   "source": [
    "**Tokenize the input**\n",
    "\n",
    "For a deep learning model we need to know what the input sequence length for our model should be. The distribution graph about shows us that for we have less than 200 posts with more than 300 words.\n",
    "\n",
    "Given the above information we can set the input sequence length to be max(words per post).By doing so we are essentially wasting a lot of resources so we make a tradeoff and set the input squence length to 300"
   ]
  },
  {
   "cell_type": "code",
   "execution_count": 0,
   "metadata": {
    "colab": {},
    "colab_type": "code",
    "id": "50W7GK0zWqLw"
   },
   "outputs": [],
   "source": [
    "MAX_LENGTH = 300\n",
    "tokenizer = Tokenizer()\n",
    "tokenizer.fit_on_texts(data.CleanText.values)\n",
    "post_seq = tokenizer.texts_to_sequences(data.CleanText.values)\n",
    "post_seq_padded = pad_sequences(post_seq, maxlen=MAX_LENGTH, padding='post')"
   ]
  },
  {
   "cell_type": "code",
   "execution_count": 94,
   "metadata": {
    "colab": {
     "base_uri": "https://localhost:8080/",
     "height": 139
    },
    "colab_type": "code",
    "id": "NPGR1gU85uZ8",
    "outputId": "5bfdda28-213c-4536-89ae-e071827cab19"
   },
   "outputs": [
    {
     "data": {
      "text/plain": [
       "array([[11617,  2191,    27, ...,     0,     0,     0],\n",
       "       [   27,    93,     8, ...,     0,     0,     0],\n",
       "       [  889,  1137,   861, ...,     0,     0,     0],\n",
       "       ...,\n",
       "       [ 1060,   714,    51, ...,     0,     0,     0],\n",
       "       [  412,  1866,   345, ...,     0,     0,     0],\n",
       "       [  569,  1354,     3, ...,     0,     0,     0]], dtype=int32)"
      ]
     },
     "execution_count": 94,
     "metadata": {
      "tags": []
     },
     "output_type": "execute_result"
    }
   ],
   "source": [
    "post_seq_padded"
   ]
  },
  {
   "cell_type": "code",
   "execution_count": 0,
   "metadata": {
    "colab": {},
    "colab_type": "code",
    "id": "C4UFfAghZMt6"
   },
   "outputs": [],
   "source": [
    "X_train, X_test, y_train, y_test = train_test_split(post_seq_padded, y, test_size=0.05)"
   ]
  },
  {
   "cell_type": "code",
   "execution_count": 0,
   "metadata": {
    "colab": {},
    "colab_type": "code",
    "id": "4X_JO2BGZdUx"
   },
   "outputs": [],
   "source": [
    "vocab_size = len(tokenizer.word_index) + 1"
   ]
  },
  {
   "cell_type": "markdown",
   "metadata": {
    "colab_type": "text",
    "id": "BO8lbV5RZ3av"
   },
   "source": [
    "**Deep Learning Model**\n",
    "\n",
    "Let start with a simple model where the build an embedder layer, Dense followed by our prediction"
   ]
  },
  {
   "cell_type": "code",
   "execution_count": 97,
   "metadata": {
    "colab": {
     "base_uri": "https://localhost:8080/",
     "height": 784
    },
    "colab_type": "code",
    "id": "KM05X7h0ZpDM",
    "outputId": "a1d5c00c-bdc3-4357-a7df-0a404fc46882"
   },
   "outputs": [
    {
     "name": "stdout",
     "output_type": "stream",
     "text": [
      "Model: \"model_10\"\n",
      "_________________________________________________________________\n",
      "Layer (type)                 Output Shape              Param #   \n",
      "=================================================================\n",
      "input_10 (InputLayer)        (None, 300)               0         \n",
      "_________________________________________________________________\n",
      "embedding_10 (Embedding)     (None, 300, 128)          4270976   \n",
      "_________________________________________________________________\n",
      "flatten_10 (Flatten)         (None, 38400)             0         \n",
      "_________________________________________________________________\n",
      "dropout_2 (Dropout)          (None, 38400)             0         \n",
      "_________________________________________________________________\n",
      "dense_19 (Dense)             (None, 32)                1228832   \n",
      "_________________________________________________________________\n",
      "dense_20 (Dense)             (None, 4)                 132       \n",
      "=================================================================\n",
      "Total params: 5,499,940\n",
      "Trainable params: 5,499,940\n",
      "Non-trainable params: 0\n",
      "_________________________________________________________________\n"
     ]
    },
    {
     "name": "stderr",
     "output_type": "stream",
     "text": [
      "/usr/local/lib/python3.6/dist-packages/tensorflow/python/framework/indexed_slices.py:434: UserWarning: Converting sparse IndexedSlices to a dense Tensor of unknown shape. This may consume a large amount of memory.\n",
      "  \"Converting sparse IndexedSlices to a dense Tensor of unknown shape. \"\n"
     ]
    },
    {
     "name": "stdout",
     "output_type": "stream",
     "text": [
      "Train on 5700 samples, validate on 1900 samples\n",
      "Epoch 1/5\n",
      "5700/5700 [==============================] - 1s 261us/step - loss: 0.9997 - acc: 0.5888 - val_loss: 0.3875 - val_acc: 0.8847\n",
      "\n",
      "Epoch 00001: val_acc improved from -inf to 0.88474, saving model to weight-simple.hdf5\n",
      "Epoch 2/5\n",
      "5700/5700 [==============================] - 1s 216us/step - loss: 0.1648 - acc: 0.9553 - val_loss: 0.1577 - val_acc: 0.9500\n",
      "\n",
      "Epoch 00002: val_acc improved from 0.88474 to 0.95000, saving model to weight-simple.hdf5\n",
      "Epoch 3/5\n",
      "5700/5700 [==============================] - 1s 214us/step - loss: 0.0322 - acc: 0.9951 - val_loss: 0.1276 - val_acc: 0.9574\n",
      "\n",
      "Epoch 00003: val_acc improved from 0.95000 to 0.95737, saving model to weight-simple.hdf5\n",
      "Epoch 4/5\n",
      "5700/5700 [==============================] - 1s 217us/step - loss: 0.0091 - acc: 0.9995 - val_loss: 0.1272 - val_acc: 0.9589\n",
      "\n",
      "Epoch 00004: val_acc improved from 0.95737 to 0.95895, saving model to weight-simple.hdf5\n",
      "Epoch 5/5\n",
      "5700/5700 [==============================] - 1s 215us/step - loss: 0.0041 - acc: 1.0000 - val_loss: 0.1256 - val_acc: 0.9584\n",
      "\n",
      "Epoch 00005: val_acc did not improve from 0.95895\n"
     ]
    }
   ],
   "source": [
    "\n",
    "inputs = Input(shape=(MAX_LENGTH,))\n",
    "embedding_layer = Embedding(vocab_size, 128, input_length=MAX_LENGTH)(inputs)\n",
    "x = Flatten()(embedding_layer)\n",
    "x = Dropout(0.25)(x)\n",
    "x = Dense(32, activation='relu')(x)\n",
    "\n",
    "\n",
    "predictions = Dense(num_class, activation='softmax')(x)\n",
    "model = Model(inputs=[inputs], outputs=predictions)\n",
    "model.compile(optimizer='adam', loss = 'categorical_crossentropy', metrics=['acc'])\n",
    "model.summary()\n",
    "filepath=\"weight-simple.hdf5\"\n",
    "checkpointer = ModelCheckpoint(filepath, monitor='val_acc', verbose=1, save_best_only=True, mode='max')\n",
    "history = model.fit([X_train], batch_size=64, y=to_categorical(y_train), verbose=1, validation_split=0.25, shuffle = True, epochs=5, callbacks=[checkpointer])"
   ]
  },
  {
   "cell_type": "code",
   "execution_count": 0,
   "metadata": {
    "colab": {},
    "colab_type": "code",
    "id": "Iej9B8MI4quJ"
   },
   "outputs": [],
   "source": [
    "#predict sentiment from reviews\n",
    "from keras.preprocessing import sequence \n",
    "text = 'conventions of importing python main programs  often i write command line utilities that are only meant to be run as main. for example  i might have a file that looks like this:   <pre><code>#!/usr/bin/env python  if __name__ ==  __main__ :     import sys     # do stuff </code></pre>   in other words  there is nothing going on that isn t under the if statement checking that this file is being run as main. i tried importing a file like this to see what would happen  and the import was successful.    so as i expected  one is allowed to import files like this  but what is the convention surrounding this practice  is one supposed to throw an error telling the user that there is nothing to be imported  or if all the contents of the file are supposed to be run as main  does one need to check if the program is being run as main  or is the conditional not necessary      also  if i have import statements  should they be at the top of the file  or under the conditional  if the modules are only being used under the conditional  it would seem to me that they should be imported under the conditional and not at the top of the file.'\n"
   ]
  },
  {
   "cell_type": "code",
   "execution_count": 99,
   "metadata": {
    "colab": {
     "base_uri": "https://localhost:8080/",
     "height": 206
    },
    "colab_type": "code",
    "id": "fBKzGLAV9Ive",
    "outputId": "a0381046-3076-46b4-f9a6-401674ad34b1"
   },
   "outputs": [
    {
     "data": {
      "text/html": [
       "<div>\n",
       "<style scoped>\n",
       "    .dataframe tbody tr th:only-of-type {\n",
       "        vertical-align: middle;\n",
       "    }\n",
       "\n",
       "    .dataframe tbody tr th {\n",
       "        vertical-align: top;\n",
       "    }\n",
       "\n",
       "    .dataframe thead th {\n",
       "        text-align: right;\n",
       "    }\n",
       "</style>\n",
       "<table border=\"1\" class=\"dataframe\">\n",
       "  <thead>\n",
       "    <tr style=\"text-align: right;\">\n",
       "      <th></th>\n",
       "      <th>post</th>\n",
       "      <th>tags</th>\n",
       "      <th>CleanText</th>\n",
       "      <th>target</th>\n",
       "      <th>num_words</th>\n",
       "      <th>bins</th>\n",
       "    </tr>\n",
       "  </thead>\n",
       "  <tbody>\n",
       "    <tr>\n",
       "      <th>0</th>\n",
       "      <td>conventions of importing python main programs ...</td>\n",
       "      <td>python</td>\n",
       "      <td>conventions importing python main programs oft...</td>\n",
       "      <td>3</td>\n",
       "      <td>91</td>\n",
       "      <td>0-100</td>\n",
       "    </tr>\n",
       "    <tr>\n",
       "      <th>1</th>\n",
       "      <td>python write to file based on offset  i want t...</td>\n",
       "      <td>python</td>\n",
       "      <td>python write file based offset want create pyt...</td>\n",
       "      <td>3</td>\n",
       "      <td>224</td>\n",
       "      <td>100-300</td>\n",
       "    </tr>\n",
       "    <tr>\n",
       "      <th>2</th>\n",
       "      <td>enable a textbox on the selection of no from t...</td>\n",
       "      <td>javascript</td>\n",
       "      <td>enable textbox selection no drop menu drop men...</td>\n",
       "      <td>2</td>\n",
       "      <td>28</td>\n",
       "      <td>0-100</td>\n",
       "    </tr>\n",
       "    <tr>\n",
       "      <th>3</th>\n",
       "      <td>sending mms and email from within app  how doe...</td>\n",
       "      <td>iphone</td>\n",
       "      <td>sending mms email within app one get pop menu ...</td>\n",
       "      <td>0</td>\n",
       "      <td>31</td>\n",
       "      <td>0-100</td>\n",
       "    </tr>\n",
       "    <tr>\n",
       "      <th>4</th>\n",
       "      <td>why aren t java weak references counted as ref...</td>\n",
       "      <td>java</td>\n",
       "      <td>java weak references counted references garbag...</td>\n",
       "      <td>1</td>\n",
       "      <td>16</td>\n",
       "      <td>0-100</td>\n",
       "    </tr>\n",
       "  </tbody>\n",
       "</table>\n",
       "</div>"
      ],
      "text/plain": [
       "                                                post  ...     bins\n",
       "0  conventions of importing python main programs ...  ...    0-100\n",
       "1  python write to file based on offset  i want t...  ...  100-300\n",
       "2  enable a textbox on the selection of no from t...  ...    0-100\n",
       "3  sending mms and email from within app  how doe...  ...    0-100\n",
       "4  why aren t java weak references counted as ref...  ...    0-100\n",
       "\n",
       "[5 rows x 6 columns]"
      ]
     },
     "execution_count": 99,
     "metadata": {
      "tags": []
     },
     "output_type": "execute_result"
    }
   ],
   "source": [
    "data.head()"
   ]
  },
  {
   "cell_type": "code",
   "execution_count": 0,
   "metadata": {
    "colab": {},
    "colab_type": "code",
    "id": "rI0kgtFQ4su3"
   },
   "outputs": [],
   "source": [
    "def prediction(text):\n",
    "  txt = text.split()\n",
    "  print(txt)\n",
    "  post_seq = tokenizer.texts_to_sequences([txt])\n",
    "  print(post_seq)\n",
    "  post_seq_padded = pad_sequences(post_seq, maxlen=MAX_LENGTH, padding='post')\n",
    "  print(post_seq_padded)\n",
    "  predicted = model.predict(post_seq_padded)\n",
    "  predicted = np.argmax(predicted, axis=1)\n",
    "  pred = d[predicted[0]]\n",
    "  return pred"
   ]
  },
  {
   "cell_type": "code",
   "execution_count": 101,
   "metadata": {
    "colab": {
     "base_uri": "https://localhost:8080/",
     "height": 523
    },
    "colab_type": "code",
    "id": "QJvXM5qh4yqs",
    "outputId": "f63d39c4-561c-471e-f615-9010517d09dc"
   },
   "outputs": [
    {
     "name": "stdout",
     "output_type": "stream",
     "text": [
      "['conventions', 'of', 'importing', 'python', 'main', 'programs', 'often', 'i', 'write', 'command', 'line', 'utilities', 'that', 'are', 'only', 'meant', 'to', 'be', 'run', 'as', 'main.', 'for', 'example', 'i', 'might', 'have', 'a', 'file', 'that', 'looks', 'like', 'this:', '<pre><code>#!/usr/bin/env', 'python', 'if', '__name__', '==', '__main__', ':', 'import', 'sys', '#', 'do', 'stuff', '</code></pre>', 'in', 'other', 'words', 'there', 'is', 'nothing', 'going', 'on', 'that', 'isn', 't', 'under', 'the', 'if', 'statement', 'checking', 'that', 'this', 'file', 'is', 'being', 'run', 'as', 'main.', 'i', 'tried', 'importing', 'a', 'file', 'like', 'this', 'to', 'see', 'what', 'would', 'happen', 'and', 'the', 'import', 'was', 'successful.', 'so', 'as', 'i', 'expected', 'one', 'is', 'allowed', 'to', 'import', 'files', 'like', 'this', 'but', 'what', 'is', 'the', 'convention', 'surrounding', 'this', 'practice', 'is', 'one', 'supposed', 'to', 'throw', 'an', 'error', 'telling', 'the', 'user', 'that', 'there', 'is', 'nothing', 'to', 'be', 'imported', 'or', 'if', 'all', 'the', 'contents', 'of', 'the', 'file', 'are', 'supposed', 'to', 'be', 'run', 'as', 'main', 'does', 'one', 'need', 'to', 'check', 'if', 'the', 'program', 'is', 'being', 'run', 'as', 'main', 'or', 'is', 'the', 'conditional', 'not', 'necessary', 'also', 'if', 'i', 'have', 'import', 'statements', 'should', 'they', 'be', 'at', 'the', 'top', 'of', 'the', 'file', 'or', 'under', 'the', 'conditional', 'if', 'the', 'modules', 'are', 'only', 'being', 'used', 'under', 'the', 'conditional', 'it', 'would', 'seem', 'to', 'me', 'that', 'they', 'should', 'be', 'imported', 'under', 'the', 'conditional', 'and', 'not', 'at', 'the', 'top', 'of', 'the', 'file.']\n",
      "[[11617, 2191, 27, 60, 1751, 2973, 93, 259, 38, 9474, 2737, 97, 90, 598, 8, 447, 23, 27, 29, 525, 589, 305, 512, 390, 228, 731, 8, 97, 122, 2191, 8, 23, 150, 46, 1129, 29, 426, 41, 1314, 29, 146, 23, 4321, 8111, 1189, 41, 932, 815, 30, 2327, 49, 512, 1852, 799, 8, 932, 97, 60, 41, 54, 129, 78, 97, 60, 2288, 5, 1934, 124, 29, 800, 289, 8, 2288, 1075, 185, 2288, 46, 466, 1852, 2288, 5, 289]]\n",
      "[[11617  2191    27    60  1751  2973    93   259    38  9474  2737    97\n",
      "     90   598     8   447    23    27    29   525   589   305   512   390\n",
      "    228   731     8    97   122  2191     8    23   150    46  1129    29\n",
      "    426    41  1314    29   146    23  4321  8111  1189    41   932   815\n",
      "     30  2327    49   512  1852   799     8   932    97    60    41    54\n",
      "    129    78    97    60  2288     5  1934   124    29   800   289     8\n",
      "   2288  1075   185  2288    46   466  1852  2288     5   289     0     0\n",
      "      0     0     0     0     0     0     0     0     0     0     0     0\n",
      "      0     0     0     0     0     0     0     0     0     0     0     0\n",
      "      0     0     0     0     0     0     0     0     0     0     0     0\n",
      "      0     0     0     0     0     0     0     0     0     0     0     0\n",
      "      0     0     0     0     0     0     0     0     0     0     0     0\n",
      "      0     0     0     0     0     0     0     0     0     0     0     0\n",
      "      0     0     0     0     0     0     0     0     0     0     0     0\n",
      "      0     0     0     0     0     0     0     0     0     0     0     0\n",
      "      0     0     0     0     0     0     0     0     0     0     0     0\n",
      "      0     0     0     0     0     0     0     0     0     0     0     0\n",
      "      0     0     0     0     0     0     0     0     0     0     0     0\n",
      "      0     0     0     0     0     0     0     0     0     0     0     0\n",
      "      0     0     0     0     0     0     0     0     0     0     0     0\n",
      "      0     0     0     0     0     0     0     0     0     0     0     0\n",
      "      0     0     0     0     0     0     0     0     0     0     0     0\n",
      "      0     0     0     0     0     0     0     0     0     0     0     0\n",
      "      0     0     0     0     0     0     0     0     0     0     0     0\n",
      "      0     0     0     0     0     0     0     0     0     0     0     0]]\n",
      "python\n"
     ]
    }
   ],
   "source": [
    "p = prediction(text)\n",
    "print(p)"
   ]
  },
  {
   "cell_type": "markdown",
   "metadata": {
    "colab_type": "text",
    "id": "kmvgJhOKdKBq"
   },
   "source": [
    "**Understanding the model fit**\n",
    "\n",
    "Once we run model fit we can see that around 5th epoch the accuracy for training was 100% where as validation accuracy was around 94.73 which suggest that we are overfitting the data and not able to generalize the model"
   ]
  },
  {
   "cell_type": "code",
   "execution_count": 0,
   "metadata": {
    "colab": {},
    "colab_type": "code",
    "id": "RzlQeNevb6N0"
   },
   "outputs": [],
   "source": [
    "# df=pd.DataFrame({'epochs':history.epoch, 'accuracy':history.history['acc'], 'validation_accuracy':history.history['val_acc']})\n",
    "# g = sns.pointplot(x = 'epochs', y='accuracy', data=df, fit_reg = False)\n",
    "# g = sns.pointplot(x=\"epochs\", y = 'validation_accuracy', data = df, fit_reg = False, color = 'green')"
   ]
  },
  {
   "cell_type": "code",
   "execution_count": 103,
   "metadata": {
    "colab": {
     "base_uri": "https://localhost:8080/",
     "height": 299
    },
    "colab_type": "code",
    "id": "4yWWwmTvfxNS",
    "outputId": "4e01a57e-bc61-4e24-c788-8c52511c6454"
   },
   "outputs": [
    {
     "data": {
      "image/png": "[encoded data removed]",
      "text/plain": [
       "<Figure size 432x288 with 1 Axes>"
      ]
     },
     "metadata": {
      "needs_background": "light",
      "tags": []
     },
     "output_type": "display_data"
    }
   ],
   "source": [
    "# summarize history for accuracy\n",
    "plt.plot(history.history['acc'])\n",
    "plt.plot(history.history['val_acc'])\n",
    "plt.title('model accuracy')\n",
    "plt.ylabel('accuracy')\n",
    "plt.xlabel('epoch')\n",
    "plt.legend(['train', 'test'], loc='upper left')\n",
    "plt.show()\n"
   ]
  },
  {
   "cell_type": "code",
   "execution_count": 104,
   "metadata": {
    "colab": {
     "base_uri": "https://localhost:8080/",
     "height": 299
    },
    "colab_type": "code",
    "id": "HYbf-AmuhtE3",
    "outputId": "c6c28642-e10a-4041-f13c-77b91899478b"
   },
   "outputs": [
    {
     "data": {
      "image/png": "[encoded data removed]",
      "text/plain": [
       "<Figure size 432x288 with 1 Axes>"
      ]
     },
     "metadata": {
      "needs_background": "light",
      "tags": []
     },
     "output_type": "display_data"
    }
   ],
   "source": [
    "# summarize history for loss\n",
    "plt.plot(history.history['loss'])\n",
    "plt.plot(history.history['val_loss'])\n",
    "plt.title('model loss')\n",
    "plt.ylabel('loss')\n",
    "plt.xlabel('epoch')\n",
    "plt.legend(['train', 'test'], loc='upper left')\n",
    "plt.show()"
   ]
  },
  {
   "cell_type": "markdown",
   "metadata": {
    "colab_type": "text",
    "id": "YuymU_wfiIGv"
   },
   "source": [
    "**Lets look at accuracy**"
   ]
  },
  {
   "cell_type": "code",
   "execution_count": 105,
   "metadata": {
    "colab": {
     "base_uri": "https://localhost:8080/",
     "height": 34
    },
    "colab_type": "code",
    "id": "h8YtSf0sh57p",
    "outputId": "d3910d30-e323-4e94-c09a-90f82059547f"
   },
   "outputs": [
    {
     "data": {
      "text/plain": [
       "0.9425"
      ]
     },
     "execution_count": 105,
     "metadata": {
      "tags": []
     },
     "output_type": "execute_result"
    }
   ],
   "source": [
    "predicted = model.predict(X_test)\n",
    "predicted = np.argmax(predicted, axis=1)\n",
    "accuracy_score(y_test, predicted)"
   ]
  },
  {
   "cell_type": "markdown",
   "metadata": {
    "colab_type": "text",
    "id": "mP_kJdnBiwYe"
   },
   "source": [
    "With simple model we are able to get around 94% accuracy on the test set"
   ]
  },
  {
   "cell_type": "markdown",
   "metadata": {
    "colab_type": "text",
    "id": "FV0sb9x9jGqV"
   },
   "source": [
    "**Recurrent Neural Networks(RNN)**\n",
    "\n",
    "we will use LSTM's to capture the notion of time in our posts. Which means we tend to see certain words after or before some other context word X and we would want to capture that."
   ]
  },
  {
   "cell_type": "code",
   "execution_count": 121,
   "metadata": {
    "colab": {
     "base_uri": "https://localhost:8080/",
     "height": 364
    },
    "colab_type": "code",
    "id": "tOl-qzj-iZNI",
    "outputId": "bf849a05-303e-4b93-a45b-a07382638893"
   },
   "outputs": [
    {
     "name": "stdout",
     "output_type": "stream",
     "text": [
      "Model: \"model_12\"\n",
      "_________________________________________________________________\n",
      "Layer (type)                 Output Shape              Param #   \n",
      "=================================================================\n",
      "input_14 (InputLayer)        (None, 500)               0         \n",
      "_________________________________________________________________\n",
      "embedding_14 (Embedding)     (None, 500, 128)          4270976   \n",
      "_________________________________________________________________\n",
      "dropout_9 (Dropout)          (None, 500, 128)          0         \n",
      "_________________________________________________________________\n",
      "lstm_14 (LSTM)               (None, 64)                49408     \n",
      "_________________________________________________________________\n",
      "dense_24 (Dense)             (None, 16)                1040      \n",
      "_________________________________________________________________\n",
      "dense_25 (Dense)             (None, 4)                 68        \n",
      "=================================================================\n",
      "Total params: 4,321,492\n",
      "Trainable params: 4,321,492\n",
      "Non-trainable params: 0\n",
      "_________________________________________________________________\n"
     ]
    }
   ],
   "source": [
    "inputs = Input(shape =(MAX_LENGTH, ))\n",
    "embedding_layer = Embedding(vocab_size, 128, input_length=MAX_LENGTH)(inputs)\n",
    "x = Dropout(0.25)(embedding_layer)\n",
    "x = LSTM(64, dropout=0.5, recurrent_dropout=0.5)(x)\n",
    "#x = Dropout(0.25)(x)\n",
    "x = Dense(16, activation = 'relu')(x)\n",
    "predictions = Dense(num_class, activation='softmax')(x)\n",
    "model = Model(inputs=[inputs], outputs = predictions)\n",
    "model.compile(optimizer='adam', loss = 'categorical_crossentropy', metrics=['acc'])\n",
    "\n",
    "model.summary()"
   ]
  },
  {
   "cell_type": "code",
   "execution_count": 123,
   "metadata": {
    "colab": {
     "base_uri": "https://localhost:8080/",
     "height": 436
    },
    "colab_type": "code",
    "id": "ewGe3QhLktAl",
    "outputId": "a56966c0-e8ec-4f7c-af4f-fc9fd6ce2e31"
   },
   "outputs": [
    {
     "name": "stderr",
     "output_type": "stream",
     "text": [
      "/usr/local/lib/python3.6/dist-packages/tensorflow/python/framework/indexed_slices.py:434: UserWarning: Converting sparse IndexedSlices to a dense Tensor of unknown shape. This may consume a large amount of memory.\n",
      "  \"Converting sparse IndexedSlices to a dense Tensor of unknown shape. \"\n"
     ]
    },
    {
     "name": "stdout",
     "output_type": "stream",
     "text": [
      "Train on 5700 samples, validate on 1900 samples\n",
      "Epoch 1/5\n",
      "5700/5700 [==============================] - 91s 16ms/step - loss: 1.2373 - acc: 0.4560 - val_loss: 0.7740 - val_acc: 0.7300\n",
      "\n",
      "Epoch 00001: val_acc improved from -inf to 0.73000, saving model to weights.hdf5\n",
      "Epoch 2/5\n",
      "5700/5700 [==============================] - 88s 15ms/step - loss: 0.6616 - acc: 0.7628 - val_loss: 0.4073 - val_acc: 0.8705\n",
      "\n",
      "Epoch 00002: val_acc improved from 0.73000 to 0.87053, saving model to weights.hdf5\n",
      "Epoch 3/5\n",
      "5700/5700 [==============================] - 87s 15ms/step - loss: 0.3633 - acc: 0.8791 - val_loss: 0.3753 - val_acc: 0.8768\n",
      "\n",
      "Epoch 00003: val_acc improved from 0.87053 to 0.87684, saving model to weights.hdf5\n",
      "Epoch 4/5\n",
      "5700/5700 [==============================] - 86s 15ms/step - loss: 0.2604 - acc: 0.9205 - val_loss: 0.3065 - val_acc: 0.9053\n",
      "\n",
      "Epoch 00004: val_acc improved from 0.87684 to 0.90526, saving model to weights.hdf5\n",
      "Epoch 5/5\n",
      "5700/5700 [==============================] - 86s 15ms/step - loss: 0.1715 - acc: 0.9475 - val_loss: 0.2847 - val_acc: 0.9158\n",
      "\n",
      "Epoch 00005: val_acc improved from 0.90526 to 0.91579, saving model to weights.hdf5\n"
     ]
    }
   ],
   "source": [
    "\n",
    "filepath = 'weights.hdf5'\n",
    "checkpointer = ModelCheckpoint(filepath, monitor='val_acc', verbose=1, save_best_only=True, mode='max')\n",
    "history = model.fit([X_train], batch_size=64, y=to_categorical(y_train), verbose=1, validation_split=0.25, shuffle=True, epochs=5,callbacks=[checkpointer])"
   ]
  },
  {
   "cell_type": "code",
   "execution_count": 114,
   "metadata": {
    "colab": {
     "base_uri": "https://localhost:8080/",
     "height": 299
    },
    "colab_type": "code",
    "id": "9Nh7g8-wliny",
    "outputId": "45e34a5a-f5ca-4eb1-a3c0-67bfedad4e96"
   },
   "outputs": [
    {
     "data": {
      "image/png": "[encoded data removed]",
      "text/plain": [
       "<Figure size 432x288 with 1 Axes>"
      ]
     },
     "metadata": {
      "needs_background": "light",
      "tags": []
     },
     "output_type": "display_data"
    }
   ],
   "source": [
    "# summarize history for loss\n",
    "plt.plot(history.history['loss'])\n",
    "plt.plot(history.history['val_loss'])\n",
    "plt.title('model loss')\n",
    "plt.ylabel('loss')\n",
    "plt.xlabel('epoch')\n",
    "plt.legend(['train', 'test'], loc='upper left')\n",
    "plt.show()"
   ]
  },
  {
   "cell_type": "code",
   "execution_count": 115,
   "metadata": {
    "colab": {
     "base_uri": "https://localhost:8080/",
     "height": 299
    },
    "colab_type": "code",
    "id": "8mR_KFS2r-tB",
    "outputId": "a2d98d1b-0d7a-4a79-92b5-b2133abebfdd"
   },
   "outputs": [
    {
     "data": {
      "image/png": "[encoded data removed]",
      "text/plain": [
       "<Figure size 432x288 with 1 Axes>"
      ]
     },
     "metadata": {
      "needs_background": "light",
      "tags": []
     },
     "output_type": "display_data"
    }
   ],
   "source": [
    "# summarize history for accuracy\n",
    "plt.plot(history.history['acc'])\n",
    "plt.plot(history.history['val_acc'])\n",
    "plt.title('model accuracy')\n",
    "plt.ylabel('accuracy')\n",
    "plt.xlabel('epoch')\n",
    "plt.legend(['train', 'test'], loc='upper left')\n",
    "plt.show()\n"
   ]
  },
  {
   "cell_type": "code",
   "execution_count": 0,
   "metadata": {
    "colab": {},
    "colab_type": "code",
    "id": "vSkadNBasAV9"
   },
   "outputs": [],
   "source": [
    "model.load_weights('weights.hdf5')\n",
    "predicted = model.predict(X_test)"
   ]
  },
  {
   "cell_type": "code",
   "execution_count": 76,
   "metadata": {
    "colab": {
     "base_uri": "https://localhost:8080/",
     "height": 139
    },
    "colab_type": "code",
    "id": "oyDF6F-iNCmm",
    "outputId": "8bae2138-bacb-46ab-f07a-9d1b6d9cde34"
   },
   "outputs": [
    {
     "name": "stdout",
     "output_type": "stream",
     "text": [
      "[[1.9212926e-04 4.3091099e-03 4.2516976e-03 9.9124700e-01]\n",
      " [6.2670537e-05 9.9499607e-01 5.7909772e-05 4.8833494e-03]\n",
      " [1.9791709e-05 9.9662066e-01 2.5966063e-05 3.3334838e-03]\n",
      " ...\n",
      " [4.2589258e-05 9.9491763e-01 5.6685229e-05 4.9831131e-03]\n",
      " [9.9587774e-01 1.9582075e-03 9.2616881e-04 1.2378347e-03]\n",
      " [9.9883300e-01 5.9655728e-04 2.3196907e-04 3.3844355e-04]]\n"
     ]
    }
   ],
   "source": [
    "print(predicted)"
   ]
  },
  {
   "cell_type": "code",
   "execution_count": 77,
   "metadata": {
    "colab": {
     "base_uri": "https://localhost:8080/",
     "height": 34
    },
    "colab_type": "code",
    "id": "Jb-HlY8mhgSe",
    "outputId": "f38ab229-2047-4b8c-8f13-8cc0836925ec"
   },
   "outputs": [
    {
     "data": {
      "text/plain": [
       "Counter({0: 101, 1: 89, 2: 108, 3: 102})"
      ]
     },
     "execution_count": 77,
     "metadata": {
      "tags": []
     },
     "output_type": "execute_result"
    }
   ],
   "source": [
    "from collections import Counter\n",
    "\n",
    "l = list(y_test)\n",
    "e = Counter(l)\n",
    "e"
   ]
  },
  {
   "cell_type": "markdown",
   "metadata": {
    "colab_type": "text",
    "id": "lWq5wNbaNhDQ"
   },
   "source": [
    "**Understanding Softmax**\n",
    "\n",
    "If you look at the last layer of your neural network you can see that we are setting the output to be equal to number of classes which mean the model will give us the probability that the input is belong to a particular class. Hence to get the predicted we need to use argmax to find the one with highest probability"
   ]
  },
  {
   "cell_type": "code",
   "execution_count": 0,
   "metadata": {
    "colab": {},
    "colab_type": "code",
    "id": "tO1UuRP6NLV8"
   },
   "outputs": [],
   "source": [
    "predicted = np.argmax(predicted, axis=1)"
   ]
  },
  {
   "cell_type": "code",
   "execution_count": 0,
   "metadata": {
    "colab": {
     "base_uri": "https://localhost:8080/",
     "height": 34
    },
    "colab_type": "code",
    "id": "LFw8nTsdOH-1",
    "outputId": "9b404725-90a8-40b5-b324-9f32e144faab"
   },
   "outputs": [
    {
     "data": {
      "text/plain": [
       "0.9675"
      ]
     },
     "execution_count": 107,
     "metadata": {
      "tags": []
     },
     "output_type": "execute_result"
    }
   ],
   "source": [
    "accuracy_score(y_test, predicted)"
   ]
  },
  {
   "cell_type": "markdown",
   "metadata": {
    "colab_type": "text",
    "id": "YOR-vTxZWPio"
   },
   "source": [
    "**Bidirectional LSTM**"
   ]
  },
  {
   "cell_type": "code",
   "execution_count": 106,
   "metadata": {
    "colab": {
     "base_uri": "https://localhost:8080/",
     "height": 384
    },
    "colab_type": "code",
    "id": "wzwZCo6uOLeY",
    "outputId": "7e302c33-92cb-480c-99a1-f00f69b78b4f"
   },
   "outputs": [
    {
     "name": "stdout",
     "output_type": "stream",
     "text": [
      "Model: \"model_11\"\n",
      "_________________________________________________________________\n",
      "Layer (type)                 Output Shape              Param #   \n",
      "=================================================================\n",
      "input_11 (InputLayer)        (None, 300)               0         \n",
      "_________________________________________________________________\n",
      "embedding_11 (Embedding)     (None, 300, 128)          4270976   \n",
      "_________________________________________________________________\n",
      "bidirectional_1 (Bidirection (None, 128)               98816     \n",
      "_________________________________________________________________\n",
      "dense_21 (Dense)             (None, 16)                2064      \n",
      "_________________________________________________________________\n",
      "dense_22 (Dense)             (None, 4)                 68        \n",
      "=================================================================\n",
      "Total params: 4,371,924\n",
      "Trainable params: 4,371,924\n",
      "Non-trainable params: 0\n",
      "_________________________________________________________________\n"
     ]
    },
    {
     "name": "stderr",
     "output_type": "stream",
     "text": [
      "/usr/local/lib/python3.6/dist-packages/ipykernel_launcher.py:10: UserWarning: Update your `Model` call to the Keras 2 API: `Model(inputs=[<tf.Tenso..., outputs=Tensor(\"de...)`\n",
      "  # Remove the CWD from sys.path while we load stuff.\n"
     ]
    }
   ],
   "source": [
    "from keras.layers import Dense, Embedding, Bidirectional, LSTM\n",
    "\n",
    "inputs = Input(shape=(MAX_LENGTH, ))\n",
    "embedding_layer = Embedding(vocab_size, 128, input_length=MAX_LENGTH)(inputs)\n",
    "\n",
    "x = Bidirectional(LSTM(64, return_sequences=False, dropout=0.2, recurrent_dropout=0.2))(embedding_layer)\n",
    "#x = Bidirectional(LSTM(64, dropout=0.2))\n",
    "x = Dense(16, activation='relu')(x)\n",
    "predictions = Dense(num_class, activation='softmax')(x)\n",
    "model=Model(inputs=[inputs], output = predictions)\n",
    "model.compile(optimizer='adam', loss='categorical_crossentropy', metrics=['acc'])\n",
    "\n",
    "model.summary()"
   ]
  },
  {
   "cell_type": "code",
   "execution_count": 107,
   "metadata": {
    "colab": {
     "base_uri": "https://localhost:8080/",
     "height": 419
    },
    "colab_type": "code",
    "id": "Sbe-EwF-YKBf",
    "outputId": "4b55a48c-eef9-4bcd-8cd7-5d3eece4feeb"
   },
   "outputs": [
    {
     "name": "stderr",
     "output_type": "stream",
     "text": [
      "/usr/local/lib/python3.6/dist-packages/tensorflow/python/framework/indexed_slices.py:434: UserWarning: Converting sparse IndexedSlices to a dense Tensor of unknown shape. This may consume a large amount of memory.\n",
      "  \"Converting sparse IndexedSlices to a dense Tensor of unknown shape. \"\n"
     ]
    },
    {
     "name": "stdout",
     "output_type": "stream",
     "text": [
      "\n",
      "Epoch 00001: val_acc improved from -inf to 0.94737, saving model to weights.hdf5\n",
      "\n",
      "Epoch 00002: val_acc improved from 0.94737 to 0.95842, saving model to weights.hdf5\n",
      "\n",
      "Epoch 00003: val_acc did not improve from 0.95842\n",
      "\n",
      "Epoch 00004: val_acc did not improve from 0.95842\n",
      "\n",
      "Epoch 00005: val_acc did not improve from 0.95842\n",
      "\n",
      "Epoch 00006: val_acc did not improve from 0.95842\n",
      "\n",
      "Epoch 00007: val_acc did not improve from 0.95842\n",
      "\n",
      "Epoch 00008: val_acc improved from 0.95842 to 0.96105, saving model to weights.hdf5\n",
      "\n",
      "Epoch 00009: val_acc did not improve from 0.96105\n",
      "\n",
      "Epoch 00010: val_acc did not improve from 0.96105\n"
     ]
    }
   ],
   "source": [
    "filepath = 'weights.hdf5'\n",
    "checkpointer = ModelCheckpoint(filepath, monitor='val_acc', verbose=1, save_best_only=True, mode='max')\n",
    "history = model.fit([X_train], batch_size=64, y=to_categorical(y_train), verbose=0, validation_split=0.25,shuffle=True, epochs=10, callbacks=[checkpointer])"
   ]
  },
  {
   "cell_type": "code",
   "execution_count": 108,
   "metadata": {
    "colab": {
     "base_uri": "https://localhost:8080/",
     "height": 299
    },
    "colab_type": "code",
    "id": "MJc6_kxBY4WF",
    "outputId": "49d87e5d-800e-4e59-d967-deba77a92eaa"
   },
   "outputs": [
    {
     "data": {
      "image/png": "[encoded data removed]",
      "text/plain": [
       "<Figure size 432x288 with 1 Axes>"
      ]
     },
     "metadata": {
      "needs_background": "light",
      "tags": []
     },
     "output_type": "display_data"
    }
   ],
   "source": [
    "# summarize history for loss\n",
    "plt.plot(history.history['loss'])\n",
    "plt.plot(history.history['val_loss'])\n",
    "plt.title('model loss')\n",
    "plt.ylabel('loss')\n",
    "plt.xlabel('epoch')\n",
    "plt.legend(['train', 'test'], loc='upper left')\n",
    "plt.show()"
   ]
  },
  {
   "cell_type": "code",
   "execution_count": 109,
   "metadata": {
    "colab": {
     "base_uri": "https://localhost:8080/",
     "height": 299
    },
    "colab_type": "code",
    "id": "Tp6s1jpV3jsL",
    "outputId": "37becd0d-defb-4ca9-afbb-ccd5e185fbe6"
   },
   "outputs": [
    {
     "data": {
      "image/png": "[encoded data removed]",
      "text/plain": [
       "<Figure size 432x288 with 1 Axes>"
      ]
     },
     "metadata": {
      "needs_background": "light",
      "tags": []
     },
     "output_type": "display_data"
    }
   ],
   "source": [
    "# summarize history for accuracy\n",
    "plt.plot(history.history['acc'])\n",
    "plt.plot(history.history['val_acc'])\n",
    "plt.title('model accuracy')\n",
    "plt.ylabel('accuracy')\n",
    "plt.xlabel('epoch')\n",
    "plt.legend(['train', 'test'], loc='upper left')\n",
    "plt.show()\n"
   ]
  },
  {
   "cell_type": "code",
   "execution_count": 0,
   "metadata": {
    "colab": {},
    "colab_type": "code",
    "id": "ii-dVEly2LaX"
   },
   "outputs": [],
   "source": [
    "model.load_weights('weights.hdf5')\n",
    "predicted = model.predict(X_test)"
   ]
  },
  {
   "cell_type": "code",
   "execution_count": 0,
   "metadata": {
    "colab": {},
    "colab_type": "code",
    "id": "RNBALTEd2RUc"
   },
   "outputs": [],
   "source": [
    "predicted = np.argmax(predicted, axis=1)"
   ]
  },
  {
   "cell_type": "code",
   "execution_count": 112,
   "metadata": {
    "colab": {
     "base_uri": "https://localhost:8080/",
     "height": 34
    },
    "colab_type": "code",
    "id": "AljZ6osL2VP9",
    "outputId": "19bcf2a4-aca4-423e-af3a-d53234b360d1"
   },
   "outputs": [
    {
     "data": {
      "text/plain": [
       "0.945"
      ]
     },
     "execution_count": 112,
     "metadata": {
      "tags": []
     },
     "output_type": "execute_result"
    }
   ],
   "source": [
    "accuracy_score(y_test, predicted)"
   ]
  },
  {
   "cell_type": "code",
   "execution_count": 0,
   "metadata": {
    "colab": {},
    "colab_type": "code",
    "id": "Wq0pd_zG2pvk"
   },
   "outputs": [],
   "source": []
  }
 ],
 "metadata": {
  "accelerator": "GPU",
  "colab": {
   "name": "Multiclass Classification using Keras on Stackoverflow posts",
   "provenance": []
  },
  "kernelspec": {
   "display_name": "Python 3",
   "language": "python",
   "name": "python3"
  },
  "language_info": {
   "codemirror_mode": {
    "name": "ipython",
    "version": 3
   },
   "file_extension": ".py",
   "mimetype": "text/x-python",
   "name": "python",
   "nbconvert_exporter": "python",
   "pygments_lexer": "ipython3",
   "version": "3.6.9"
  }
 },
 "nbformat": 4,
 "nbformat_minor": 1
}
